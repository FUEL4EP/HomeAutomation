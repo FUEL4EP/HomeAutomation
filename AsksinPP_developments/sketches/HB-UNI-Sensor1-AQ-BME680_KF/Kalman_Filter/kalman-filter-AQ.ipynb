{
 "cells": [
  {
   "cell_type": "markdown",
   "metadata": {},
   "source": [
    "# Kalman Filter for Air Quality\n",
    "see also 'Optimum Linear Estimation' at https://www.sciencedirect.com/topics/social-sciences/kalman-filter\n",
    "\n",
    "- Replaces a multiple linear regression (MLR) batch run, runs recursively on an Arduino Atmega1284P as adaptive filter for the MLR regression coefficients\n",
    "- Kalman Filter is derived from https://github.com/zziz/kalman-filter\n",
    "- For theory, please read https://en.wikipedia.org/wiki/Kalman_filter\n",
    "- Key is to set the covariance of the process noise matrix to a zero matrix! See hint in 'Optimum Linear Estimation' at https://www.sciencedirect.com/topics/social-sciences/kalman-filter.\n",
    "- I send a big thank you to those who provided these great basis contributions\n",
    "- Click on the button 'Re-start the kernel, and then re-run the whole notebook' above"
   ]
  },
  {
   "cell_type": "markdown",
   "metadata": {},
   "source": [
    "## Prerequisites (only necessary if you use interactive graphs with '%matplotlib widgets', see below)\n",
    "\n",
    "- For LINUX operating systems the following software installations are necessary for getting interactive matplotlib graphs working.\n",
    "- For other operating system, please check in the internet for appropriate solutions.\n",
    "- Please run the following commands from the LINUX command line:\n",
    "- Install anaconda and pip if not yet installed\n",
    "- Exit jupyter lab, shutdown the jupyterlab notebook server\n",
    "> pip install ipympl<br/>\n",
    "> conda install -y nodejs<br/>\n",
    "> pip install --upgrade jupyterlab<br/>\n",
    "> jupyter labextension list<br/>\n",
    "> jupyter lab clean --all<br/>\n",
    "> jupyter labextension install @jupyter-widgets/jupyterlab-manager<br/>\n",
    "> jupyter labextension install jupyter-matplotlib<br/>\n",
    "> jupyter nbextension enable --py widgetsnbextension<br/>\n",
    "> jupyter lab build<br/>\n",
    "> jupyter labextension list<br/>\n",
    "- Then re-start jupyter lab\n",
    "\n"
   ]
  },
  {
   "cell_type": "markdown",
   "metadata": {},
   "source": [
    "## Basic Kalman Filter class from https://github.com/zziz/kalman-filter:"
   ]
  },
  {
   "cell_type": "code",
   "execution_count": 1,
   "metadata": {},
   "outputs": [],
   "source": [
    "class KalmanFilter(object):\n",
    "    def __init__(self, F = None, B = None, H = None, Q = None, R = None, P = None, x0 = None):\n",
    "\n",
    "        if(F is None or H is None):\n",
    "            raise ValueError(\"Set proper system dynamics.\")\n",
    "\n",
    "        self.n = F.shape[1]\n",
    "        self.m = H.shape[1]\n",
    "\n",
    "        self.F = F\n",
    "        self.H = H\n",
    "        self.B = 0 if B is None else B\n",
    "        self.Q = np.eye(self.n) if Q is None else Q\n",
    "        self.R = np.eye(self.n) if R is None else R\n",
    "        self.P = np.eye(self.n) if P is None else P\n",
    "        self.x = np.zeros((self.n, 1)) if x0 is None else x0\n",
    "\n",
    "    def predict(self, u = 0):\n",
    "        self.x = np.dot(self.F, self.x) + np.dot(self.B, u)             # Predicted (a priori) state estimate\n",
    "        self.P = np.dot(np.dot(self.F, self.P), self.F.T) + self.Q      # Predicted (a priori) estimate covariance\n",
    "        return self.x\n",
    "\n",
    "    def update(self, z):\n",
    "        y = z - np.dot(self.H, self.x)                                  # Innovation or measurement pre-fit residual\n",
    "        S = self.R + np.dot(self.H, np.dot(self.P, self.H.T))           # Innovation (or pre-fit residual) covariance\n",
    "        #print(\"\\nUpdate: self.H = \", self.H)\n",
    "        #print(\"\\nUpdate: self.P = \", self.P)\n",
    "        #print(\"\\nUpdate: self.R = \", self.R)\n",
    "        K = np.dot(np.dot(self.P, self.H.T), np.linalg.inv(S))          # Optimal Kalman gain\n",
    "        #print(\"\\nUpdate: Kalman gain matrix K  = \", K)\n",
    "        self.x = self.x + np.dot(K, y)\n",
    "        I = np.eye(self.n)\n",
    "        \n",
    "        self.P = np.dot(np.dot(I - np.dot(K, self.H), self.P), (I - np.dot(K, self.H)).T) + np.dot(np.dot(K, self.R), K.T) # Updated (a posteriori) estimate covariance "
   ]
  },
  {
   "cell_type": "markdown",
   "metadata": {},
   "source": [
    "## Read historian.csv (same input file as 'Multiple linear regression for BME680 gas readings of a single sensor.ipynb' is using"
   ]
  },
  {
   "cell_type": "code",
   "execution_count": 2,
   "metadata": {},
   "outputs": [
    {
     "data": {
      "text/html": [
       "<div>\n",
       "<style scoped>\n",
       "    .dataframe tbody tr th:only-of-type {\n",
       "        vertical-align: middle;\n",
       "    }\n",
       "\n",
       "    .dataframe tbody tr th {\n",
       "        vertical-align: top;\n",
       "    }\n",
       "\n",
       "    .dataframe thead th {\n",
       "        text-align: right;\n",
       "    }\n",
       "</style>\n",
       "<table border=\"1\" class=\"dataframe\">\n",
       "  <thead>\n",
       "    <tr style=\"text-align: right;\">\n",
       "      <th></th>\n",
       "      <th>Datum</th>\n",
       "      <th>Mode</th>\n",
       "      <th>raw_gas_resistance</th>\n",
       "      <th>relative_humidity</th>\n",
       "      <th>temperature</th>\n",
       "    </tr>\n",
       "  </thead>\n",
       "  <tbody>\n",
       "    <tr>\n",
       "      <th>0</th>\n",
       "      <td>2021-01-15 19:00:00.000</td>\n",
       "      <td>2</td>\n",
       "      <td>177160</td>\n",
       "      <td>28.9</td>\n",
       "      <td>24.6</td>\n",
       "    </tr>\n",
       "    <tr>\n",
       "      <th>1</th>\n",
       "      <td>2021-01-15 19:00:56.674</td>\n",
       "      <td>2</td>\n",
       "      <td>177160</td>\n",
       "      <td>28.9</td>\n",
       "      <td>24.6</td>\n",
       "    </tr>\n",
       "    <tr>\n",
       "      <th>2</th>\n",
       "      <td>2021-01-15 19:00:56.683</td>\n",
       "      <td>2</td>\n",
       "      <td>177160</td>\n",
       "      <td>29.6</td>\n",
       "      <td>24.6</td>\n",
       "    </tr>\n",
       "    <tr>\n",
       "      <th>3</th>\n",
       "      <td>2021-01-15 19:00:56.688</td>\n",
       "      <td>2</td>\n",
       "      <td>174900</td>\n",
       "      <td>29.6</td>\n",
       "      <td>24.6</td>\n",
       "    </tr>\n",
       "    <tr>\n",
       "      <th>4</th>\n",
       "      <td>2021-01-15 19:05:29.488</td>\n",
       "      <td>2</td>\n",
       "      <td>174900</td>\n",
       "      <td>29.6</td>\n",
       "      <td>24.6</td>\n",
       "    </tr>\n",
       "    <tr>\n",
       "      <th>5</th>\n",
       "      <td>2021-01-15 19:05:29.498</td>\n",
       "      <td>2</td>\n",
       "      <td>174900</td>\n",
       "      <td>30.1</td>\n",
       "      <td>24.6</td>\n",
       "    </tr>\n",
       "    <tr>\n",
       "      <th>6</th>\n",
       "      <td>2021-01-15 19:05:29.504</td>\n",
       "      <td>2</td>\n",
       "      <td>175280</td>\n",
       "      <td>30.1</td>\n",
       "      <td>24.6</td>\n",
       "    </tr>\n",
       "    <tr>\n",
       "      <th>7</th>\n",
       "      <td>2021-01-15 19:10:02.302</td>\n",
       "      <td>2</td>\n",
       "      <td>175280</td>\n",
       "      <td>30.1</td>\n",
       "      <td>24.6</td>\n",
       "    </tr>\n",
       "    <tr>\n",
       "      <th>8</th>\n",
       "      <td>2021-01-15 19:10:02.306</td>\n",
       "      <td>2</td>\n",
       "      <td>175280</td>\n",
       "      <td>29.7</td>\n",
       "      <td>24.6</td>\n",
       "    </tr>\n",
       "    <tr>\n",
       "      <th>9</th>\n",
       "      <td>2021-01-15 19:10:02.312</td>\n",
       "      <td>2</td>\n",
       "      <td>175860</td>\n",
       "      <td>29.7</td>\n",
       "      <td>24.6</td>\n",
       "    </tr>\n",
       "    <tr>\n",
       "      <th>10</th>\n",
       "      <td>2021-01-15 19:14:35.105</td>\n",
       "      <td>2</td>\n",
       "      <td>175860</td>\n",
       "      <td>29.7</td>\n",
       "      <td>24.6</td>\n",
       "    </tr>\n",
       "    <tr>\n",
       "      <th>11</th>\n",
       "      <td>2021-01-15 19:14:35.115</td>\n",
       "      <td>2</td>\n",
       "      <td>175860</td>\n",
       "      <td>29.9</td>\n",
       "      <td>24.6</td>\n",
       "    </tr>\n",
       "    <tr>\n",
       "      <th>12</th>\n",
       "      <td>2021-01-15 19:14:35.120</td>\n",
       "      <td>2</td>\n",
       "      <td>173780</td>\n",
       "      <td>29.9</td>\n",
       "      <td>24.6</td>\n",
       "    </tr>\n",
       "    <tr>\n",
       "      <th>13</th>\n",
       "      <td>2021-01-15 19:19:07.919</td>\n",
       "      <td>2</td>\n",
       "      <td>173780</td>\n",
       "      <td>29.9</td>\n",
       "      <td>24.6</td>\n",
       "    </tr>\n",
       "    <tr>\n",
       "      <th>14</th>\n",
       "      <td>2021-01-15 19:19:07.927</td>\n",
       "      <td>2</td>\n",
       "      <td>173780</td>\n",
       "      <td>30.3</td>\n",
       "      <td>24.6</td>\n",
       "    </tr>\n",
       "    <tr>\n",
       "      <th>15</th>\n",
       "      <td>2021-01-15 19:19:07.932</td>\n",
       "      <td>2</td>\n",
       "      <td>170320</td>\n",
       "      <td>30.3</td>\n",
       "      <td>24.6</td>\n",
       "    </tr>\n",
       "    <tr>\n",
       "      <th>16</th>\n",
       "      <td>2021-01-15 19:23:40.742</td>\n",
       "      <td>2</td>\n",
       "      <td>170320</td>\n",
       "      <td>30.3</td>\n",
       "      <td>24.6</td>\n",
       "    </tr>\n",
       "    <tr>\n",
       "      <th>17</th>\n",
       "      <td>2021-01-15 19:23:40.745</td>\n",
       "      <td>2</td>\n",
       "      <td>170320</td>\n",
       "      <td>30.7</td>\n",
       "      <td>24.6</td>\n",
       "    </tr>\n",
       "    <tr>\n",
       "      <th>18</th>\n",
       "      <td>2021-01-15 19:23:40.751</td>\n",
       "      <td>2</td>\n",
       "      <td>167060</td>\n",
       "      <td>30.7</td>\n",
       "      <td>24.6</td>\n",
       "    </tr>\n",
       "  </tbody>\n",
       "</table>\n",
       "</div>"
      ],
      "text/plain": [
       "                     Datum  Mode  raw_gas_resistance  relative_humidity  \\\n",
       "0  2021-01-15 19:00:00.000     2              177160               28.9   \n",
       "1  2021-01-15 19:00:56.674     2              177160               28.9   \n",
       "2  2021-01-15 19:00:56.683     2              177160               29.6   \n",
       "3  2021-01-15 19:00:56.688     2              174900               29.6   \n",
       "4  2021-01-15 19:05:29.488     2              174900               29.6   \n",
       "5  2021-01-15 19:05:29.498     2              174900               30.1   \n",
       "6  2021-01-15 19:05:29.504     2              175280               30.1   \n",
       "7  2021-01-15 19:10:02.302     2              175280               30.1   \n",
       "8  2021-01-15 19:10:02.306     2              175280               29.7   \n",
       "9  2021-01-15 19:10:02.312     2              175860               29.7   \n",
       "10 2021-01-15 19:14:35.105     2              175860               29.7   \n",
       "11 2021-01-15 19:14:35.115     2              175860               29.9   \n",
       "12 2021-01-15 19:14:35.120     2              173780               29.9   \n",
       "13 2021-01-15 19:19:07.919     2              173780               29.9   \n",
       "14 2021-01-15 19:19:07.927     2              173780               30.3   \n",
       "15 2021-01-15 19:19:07.932     2              170320               30.3   \n",
       "16 2021-01-15 19:23:40.742     2              170320               30.3   \n",
       "17 2021-01-15 19:23:40.745     2              170320               30.7   \n",
       "18 2021-01-15 19:23:40.751     2              167060               30.7   \n",
       "\n",
       "    temperature  \n",
       "0          24.6  \n",
       "1          24.6  \n",
       "2          24.6  \n",
       "3          24.6  \n",
       "4          24.6  \n",
       "5          24.6  \n",
       "6          24.6  \n",
       "7          24.6  \n",
       "8          24.6  \n",
       "9          24.6  \n",
       "10         24.6  \n",
       "11         24.6  \n",
       "12         24.6  \n",
       "13         24.6  \n",
       "14         24.6  \n",
       "15         24.6  \n",
       "16         24.6  \n",
       "17         24.6  \n",
       "18         24.6  "
      ]
     },
     "execution_count": 2,
     "metadata": {},
     "output_type": "execute_result"
    }
   ],
   "source": [
    "import warnings\n",
    "warnings.simplefilter(action='ignore', category=FutureWarning)\n",
    "\n",
    "import pandas as pd\n",
    "from datetime import datetime\n",
    "\n",
    "import numpy as np\n",
    "\n",
    "\n",
    "dateparse = lambda x: pd.datetime.strptime(x, '%d.%m.%Y %H:%M:%S,%f')\n",
    "  \n",
    "df0 = pd.read_csv(\"historian.csv\", sep=';', thousands=\".\", decimal=\",\", skiprows = [0,1,2],dtype={'High': np.float64, 'Low': np.float64}, header = None, encoding= 'unicode_escape',  parse_dates=[0], date_parser=dateparse, names = [ 'Datum', 'Mode', 'raw_gas_resistance', 'relative_humidity', 'temperature'])\n",
    "\n",
    "# print first 5 lines of the pandas dataframe\n",
    "\n",
    "df0.head(19)\n"
   ]
  },
  {
   "cell_type": "code",
   "execution_count": 3,
   "metadata": {},
   "outputs": [
    {
     "data": {
      "text/html": [
       "<div>\n",
       "<style scoped>\n",
       "    .dataframe tbody tr th:only-of-type {\n",
       "        vertical-align: middle;\n",
       "    }\n",
       "\n",
       "    .dataframe tbody tr th {\n",
       "        vertical-align: top;\n",
       "    }\n",
       "\n",
       "    .dataframe thead th {\n",
       "        text-align: right;\n",
       "    }\n",
       "</style>\n",
       "<table border=\"1\" class=\"dataframe\">\n",
       "  <thead>\n",
       "    <tr style=\"text-align: right;\">\n",
       "      <th></th>\n",
       "      <th>Datum</th>\n",
       "      <th>Mode</th>\n",
       "      <th>raw_gas_resistance</th>\n",
       "      <th>relative_humidity</th>\n",
       "      <th>temperature</th>\n",
       "    </tr>\n",
       "  </thead>\n",
       "  <tbody>\n",
       "    <tr>\n",
       "      <th>0</th>\n",
       "      <td>2021-01-15 19:00:00.000</td>\n",
       "      <td>2</td>\n",
       "      <td>177160</td>\n",
       "      <td>28.9</td>\n",
       "      <td>24.6</td>\n",
       "    </tr>\n",
       "    <tr>\n",
       "      <th>3</th>\n",
       "      <td>2021-01-15 19:00:56.688</td>\n",
       "      <td>2</td>\n",
       "      <td>174900</td>\n",
       "      <td>29.6</td>\n",
       "      <td>24.6</td>\n",
       "    </tr>\n",
       "    <tr>\n",
       "      <th>6</th>\n",
       "      <td>2021-01-15 19:05:29.504</td>\n",
       "      <td>2</td>\n",
       "      <td>175280</td>\n",
       "      <td>30.1</td>\n",
       "      <td>24.6</td>\n",
       "    </tr>\n",
       "    <tr>\n",
       "      <th>9</th>\n",
       "      <td>2021-01-15 19:10:02.312</td>\n",
       "      <td>2</td>\n",
       "      <td>175860</td>\n",
       "      <td>29.7</td>\n",
       "      <td>24.6</td>\n",
       "    </tr>\n",
       "    <tr>\n",
       "      <th>12</th>\n",
       "      <td>2021-01-15 19:14:35.120</td>\n",
       "      <td>2</td>\n",
       "      <td>173780</td>\n",
       "      <td>29.9</td>\n",
       "      <td>24.6</td>\n",
       "    </tr>\n",
       "    <tr>\n",
       "      <th>15</th>\n",
       "      <td>2021-01-15 19:19:07.932</td>\n",
       "      <td>2</td>\n",
       "      <td>170320</td>\n",
       "      <td>30.3</td>\n",
       "      <td>24.6</td>\n",
       "    </tr>\n",
       "    <tr>\n",
       "      <th>18</th>\n",
       "      <td>2021-01-15 19:23:40.751</td>\n",
       "      <td>2</td>\n",
       "      <td>167060</td>\n",
       "      <td>30.7</td>\n",
       "      <td>24.6</td>\n",
       "    </tr>\n",
       "  </tbody>\n",
       "</table>\n",
       "</div>"
      ],
      "text/plain": [
       "                     Datum  Mode  raw_gas_resistance  relative_humidity  \\\n",
       "0  2021-01-15 19:00:00.000     2              177160               28.9   \n",
       "3  2021-01-15 19:00:56.688     2              174900               29.6   \n",
       "6  2021-01-15 19:05:29.504     2              175280               30.1   \n",
       "9  2021-01-15 19:10:02.312     2              175860               29.7   \n",
       "12 2021-01-15 19:14:35.120     2              173780               29.9   \n",
       "15 2021-01-15 19:19:07.932     2              170320               30.3   \n",
       "18 2021-01-15 19:23:40.751     2              167060               30.7   \n",
       "\n",
       "    temperature  \n",
       "0          24.6  \n",
       "3          24.6  \n",
       "6          24.6  \n",
       "9          24.6  \n",
       "12         24.6  \n",
       "15         24.6  \n",
       "18         24.6  "
      ]
     },
     "execution_count": 3,
     "metadata": {},
     "output_type": "execute_result"
    }
   ],
   "source": [
    "# keep every 3rd row (CCU historian is tacking every change of a datapoint separately)\n",
    "df = df0[(df0.index % 3 == 0)]\n",
    "\n",
    "df.head(7)"
   ]
  },
  {
   "cell_type": "markdown",
   "metadata": {},
   "source": [
    "Print values of Pandas dataframe. Please x-check if they meet your expectation!"
   ]
  },
  {
   "cell_type": "code",
   "execution_count": 4,
   "metadata": {},
   "outputs": [
    {
     "data": {
      "text/plain": [
       "array([[Timestamp('2021-01-15 19:00:00'), 2, 177160, 28.9, 24.6],\n",
       "       [Timestamp('2021-01-15 19:00:56.688000'), 2, 174900, 29.6, 24.6],\n",
       "       [Timestamp('2021-01-15 19:05:29.504000'), 2, 175280, 30.1, 24.6],\n",
       "       ...,\n",
       "       [Timestamp('2021-01-19 16:41:43.161000'), 2, 112700, 38.5, 24.9],\n",
       "       [Timestamp('2021-01-19 16:46:15.860000'), 2, 112860, 38.5, 24.9],\n",
       "       [Timestamp('2021-01-19 16:50:48.569000'), 2, 113640, 38.6, 24.9]],\n",
       "      dtype=object)"
      ]
     },
     "execution_count": 4,
     "metadata": {},
     "output_type": "execute_result"
    }
   ],
   "source": [
    "df.values"
   ]
  },
  {
   "cell_type": "code",
   "execution_count": 5,
   "metadata": {},
   "outputs": [
    {
     "data": {
      "text/html": [
       "<div>\n",
       "<style scoped>\n",
       "    .dataframe tbody tr th:only-of-type {\n",
       "        vertical-align: middle;\n",
       "    }\n",
       "\n",
       "    .dataframe tbody tr th {\n",
       "        vertical-align: top;\n",
       "    }\n",
       "\n",
       "    .dataframe thead th {\n",
       "        text-align: right;\n",
       "    }\n",
       "</style>\n",
       "<table border=\"1\" class=\"dataframe\">\n",
       "  <thead>\n",
       "    <tr style=\"text-align: right;\">\n",
       "      <th></th>\n",
       "      <th>Datum</th>\n",
       "      <th>Mode</th>\n",
       "      <th>raw_gas_resistance</th>\n",
       "      <th>relative_humidity</th>\n",
       "      <th>temperature</th>\n",
       "    </tr>\n",
       "  </thead>\n",
       "  <tbody>\n",
       "    <tr>\n",
       "      <th>0</th>\n",
       "      <td>2021-01-15 19:00:00.000</td>\n",
       "      <td>2</td>\n",
       "      <td>177160</td>\n",
       "      <td>28.9</td>\n",
       "      <td>24.6</td>\n",
       "    </tr>\n",
       "    <tr>\n",
       "      <th>3</th>\n",
       "      <td>2021-01-15 19:00:56.688</td>\n",
       "      <td>2</td>\n",
       "      <td>174900</td>\n",
       "      <td>29.6</td>\n",
       "      <td>24.6</td>\n",
       "    </tr>\n",
       "    <tr>\n",
       "      <th>6</th>\n",
       "      <td>2021-01-15 19:05:29.504</td>\n",
       "      <td>2</td>\n",
       "      <td>175280</td>\n",
       "      <td>30.1</td>\n",
       "      <td>24.6</td>\n",
       "    </tr>\n",
       "    <tr>\n",
       "      <th>9</th>\n",
       "      <td>2021-01-15 19:10:02.312</td>\n",
       "      <td>2</td>\n",
       "      <td>175860</td>\n",
       "      <td>29.7</td>\n",
       "      <td>24.6</td>\n",
       "    </tr>\n",
       "    <tr>\n",
       "      <th>12</th>\n",
       "      <td>2021-01-15 19:14:35.120</td>\n",
       "      <td>2</td>\n",
       "      <td>173780</td>\n",
       "      <td>29.9</td>\n",
       "      <td>24.6</td>\n",
       "    </tr>\n",
       "    <tr>\n",
       "      <th>...</th>\n",
       "      <td>...</td>\n",
       "      <td>...</td>\n",
       "      <td>...</td>\n",
       "      <td>...</td>\n",
       "      <td>...</td>\n",
       "    </tr>\n",
       "    <tr>\n",
       "      <th>3660</th>\n",
       "      <td>2021-01-19 16:28:04.985</td>\n",
       "      <td>2</td>\n",
       "      <td>111520</td>\n",
       "      <td>38.4</td>\n",
       "      <td>24.9</td>\n",
       "    </tr>\n",
       "    <tr>\n",
       "      <th>3663</th>\n",
       "      <td>2021-01-19 16:32:37.689</td>\n",
       "      <td>2</td>\n",
       "      <td>112140</td>\n",
       "      <td>38.5</td>\n",
       "      <td>24.9</td>\n",
       "    </tr>\n",
       "    <tr>\n",
       "      <th>3666</th>\n",
       "      <td>2021-01-19 16:37:10.407</td>\n",
       "      <td>2</td>\n",
       "      <td>112460</td>\n",
       "      <td>38.4</td>\n",
       "      <td>24.9</td>\n",
       "    </tr>\n",
       "    <tr>\n",
       "      <th>3669</th>\n",
       "      <td>2021-01-19 16:41:43.161</td>\n",
       "      <td>2</td>\n",
       "      <td>112700</td>\n",
       "      <td>38.5</td>\n",
       "      <td>24.9</td>\n",
       "    </tr>\n",
       "    <tr>\n",
       "      <th>3672</th>\n",
       "      <td>2021-01-19 16:46:15.860</td>\n",
       "      <td>2</td>\n",
       "      <td>112860</td>\n",
       "      <td>38.5</td>\n",
       "      <td>24.9</td>\n",
       "    </tr>\n",
       "  </tbody>\n",
       "</table>\n",
       "<p>1225 rows × 5 columns</p>\n",
       "</div>"
      ],
      "text/plain": [
       "                       Datum  Mode  raw_gas_resistance  relative_humidity  \\\n",
       "0    2021-01-15 19:00:00.000     2              177160               28.9   \n",
       "3    2021-01-15 19:00:56.688     2              174900               29.6   \n",
       "6    2021-01-15 19:05:29.504     2              175280               30.1   \n",
       "9    2021-01-15 19:10:02.312     2              175860               29.7   \n",
       "12   2021-01-15 19:14:35.120     2              173780               29.9   \n",
       "...                      ...   ...                 ...                ...   \n",
       "3660 2021-01-19 16:28:04.985     2              111520               38.4   \n",
       "3663 2021-01-19 16:32:37.689     2              112140               38.5   \n",
       "3666 2021-01-19 16:37:10.407     2              112460               38.4   \n",
       "3669 2021-01-19 16:41:43.161     2              112700               38.5   \n",
       "3672 2021-01-19 16:46:15.860     2              112860               38.5   \n",
       "\n",
       "      temperature  \n",
       "0            24.6  \n",
       "3            24.6  \n",
       "6            24.6  \n",
       "9            24.6  \n",
       "12           24.6  \n",
       "...           ...  \n",
       "3660         24.9  \n",
       "3663         24.9  \n",
       "3666         24.9  \n",
       "3669         24.9  \n",
       "3672         24.9  \n",
       "\n",
       "[1225 rows x 5 columns]"
      ]
     },
     "execution_count": 5,
     "metadata": {},
     "output_type": "execute_result"
    }
   ],
   "source": [
    "df.head(-1)"
   ]
  },
  {
   "cell_type": "markdown",
   "metadata": {},
   "source": [
    "## Formulas for calculating the absolute humidity"
   ]
  },
  {
   "cell_type": "code",
   "execution_count": 6,
   "metadata": {},
   "outputs": [
    {
     "name": "stderr",
     "output_type": "stream",
     "text": [
      "<ipython-input-6-c7d1df81f741>:33: SettingWithCopyWarning: \n",
      "A value is trying to be set on a copy of a slice from a DataFrame.\n",
      "Try using .loc[row_indexer,col_indexer] = value instead\n",
      "\n",
      "See the caveats in the documentation: https://pandas.pydata.org/pandas-docs/stable/user_guide/indexing.html#returning-a-view-versus-a-copy\n",
      "  df['absolute_humidity'] = calculate_absolute_humidity(df['temperature'], df['relative_humidity'])\n"
     ]
    }
   ],
   "source": [
    "import numpy as np\n",
    "# Create a function that  calculates the absolute humidity from the two arguments 'temperature' and 'relative humidity'\n",
    "# see for details https://www.kompf.de/weather/vent.html or  https://rechneronline.de/barometer/luftfeuchtigkeit.php for x-checking the calculated result\n",
    "\n",
    "a = 6.112\n",
    "b = 17.67\n",
    "c = 243.5\n",
    "\n",
    "# Compute saturated water vapor pressure in hPa\n",
    "# Param t - temperature in °C\n",
    "def svp(t):\n",
    "  svp = a * np.exp((b*t)/(c+t))\n",
    "  return svp\n",
    "\n",
    "# Compute actual water vapor pressure in hPa\n",
    "# Param rh - relative humidity in %\n",
    "# Param t - temperature in °C\n",
    "def vp(rh, t):\n",
    "  vp = rh/100. * svp(t)\n",
    "  return vp\n",
    "\n",
    "# Compute the absolute humidity in g/m³\n",
    "# Param rh - relative humidity in %\n",
    "# Param t - temperature in °C\n",
    "def calculate_absolute_humidity(t, rh):\n",
    "  mw = 18.016 # kg/kmol (Molekulargewicht des Wasserdampfes)\n",
    "  rs = 8314.3 # J/(kmol*K) (universelle Gaskonstante)\n",
    "  ah = 10**5 * mw/rs * vp(rh, t)/(t + 273.15)\n",
    "  #return the absolute humidity in [g/m³]\n",
    "  return ah\n",
    "\n",
    "# now apply the above defined formulas to get the pandas dataframe column 'absolute_humidity'\n",
    "df['absolute_humidity'] = calculate_absolute_humidity(df['temperature'], df['relative_humidity'])"
   ]
  },
  {
   "cell_type": "markdown",
   "metadata": {},
   "source": [
    "## Plot the calculated absolute humidity"
   ]
  },
  {
   "cell_type": "code",
   "execution_count": 7,
   "metadata": {},
   "outputs": [
    {
     "data": {
      "application/vnd.jupyter.widget-view+json": {
       "model_id": "a38ec7f171ec401e8ea5919502ed92f6",
       "version_major": 2,
       "version_minor": 0
      },
      "text/plain": [
       "Canvas(toolbar=Toolbar(toolitems=[('Home', 'Reset original view', 'home', 'home'), ('Back', 'Back to previous …"
      ]
     },
     "metadata": {},
     "output_type": "display_data"
    }
   ],
   "source": [
    "%matplotlib widget\n",
    "import matplotlib.pyplot as plt\n",
    "import matplotlib.dates as mdates\n",
    "from matplotlib.dates import DateFormatter\n",
    "from matplotlib.ticker import (MultipleLocator, FormatStrFormatter, AutoMinorLocator)\n",
    "fig, ax = plt.subplots(figsize=(12, 12))\n",
    "plt.xticks(rotation=60)\n",
    "ax.xaxis.set_major_formatter(DateFormatter('%b %d %Y %H:%M'))\n",
    "ax.xaxis.set_minor_locator(AutoMinorLocator())\n",
    "ax.plot_date(df['Datum'], df['absolute_humidity'], linestyle='solid', marker=\" \", color='brown')         \n",
    "plt.title('absolute humidity [g/m³]', fontsize=18)\n",
    "plt.xlabel('time', fontsize=14)\n",
    "plt.ylabel('absolute humidity [g/m³]', fontsize=14)\n",
    "plt.grid(True)\n",
    "plt.show()"
   ]
  },
  {
   "cell_type": "markdown",
   "metadata": {},
   "source": [
    "Print again the first 5 lines of the Pandas dataframe. Check if a column for the absolute humidity has been added."
   ]
  },
  {
   "cell_type": "code",
   "execution_count": 8,
   "metadata": {},
   "outputs": [
    {
     "data": {
      "text/html": [
       "<div>\n",
       "<style scoped>\n",
       "    .dataframe tbody tr th:only-of-type {\n",
       "        vertical-align: middle;\n",
       "    }\n",
       "\n",
       "    .dataframe tbody tr th {\n",
       "        vertical-align: top;\n",
       "    }\n",
       "\n",
       "    .dataframe thead th {\n",
       "        text-align: right;\n",
       "    }\n",
       "</style>\n",
       "<table border=\"1\" class=\"dataframe\">\n",
       "  <thead>\n",
       "    <tr style=\"text-align: right;\">\n",
       "      <th></th>\n",
       "      <th>Datum</th>\n",
       "      <th>Mode</th>\n",
       "      <th>raw_gas_resistance</th>\n",
       "      <th>relative_humidity</th>\n",
       "      <th>temperature</th>\n",
       "      <th>absolute_humidity</th>\n",
       "    </tr>\n",
       "  </thead>\n",
       "  <tbody>\n",
       "    <tr>\n",
       "      <th>0</th>\n",
       "      <td>2021-01-15 19:00:00.000</td>\n",
       "      <td>2</td>\n",
       "      <td>177160</td>\n",
       "      <td>28.9</td>\n",
       "      <td>24.6</td>\n",
       "      <td>6.504326</td>\n",
       "    </tr>\n",
       "    <tr>\n",
       "      <th>3</th>\n",
       "      <td>2021-01-15 19:00:56.688</td>\n",
       "      <td>2</td>\n",
       "      <td>174900</td>\n",
       "      <td>29.6</td>\n",
       "      <td>24.6</td>\n",
       "      <td>6.661871</td>\n",
       "    </tr>\n",
       "    <tr>\n",
       "      <th>6</th>\n",
       "      <td>2021-01-15 19:05:29.504</td>\n",
       "      <td>2</td>\n",
       "      <td>175280</td>\n",
       "      <td>30.1</td>\n",
       "      <td>24.6</td>\n",
       "      <td>6.774402</td>\n",
       "    </tr>\n",
       "    <tr>\n",
       "      <th>9</th>\n",
       "      <td>2021-01-15 19:10:02.312</td>\n",
       "      <td>2</td>\n",
       "      <td>175860</td>\n",
       "      <td>29.7</td>\n",
       "      <td>24.6</td>\n",
       "      <td>6.684377</td>\n",
       "    </tr>\n",
       "    <tr>\n",
       "      <th>12</th>\n",
       "      <td>2021-01-15 19:14:35.120</td>\n",
       "      <td>2</td>\n",
       "      <td>173780</td>\n",
       "      <td>29.9</td>\n",
       "      <td>24.6</td>\n",
       "      <td>6.729390</td>\n",
       "    </tr>\n",
       "  </tbody>\n",
       "</table>\n",
       "</div>"
      ],
      "text/plain": [
       "                     Datum  Mode  raw_gas_resistance  relative_humidity  \\\n",
       "0  2021-01-15 19:00:00.000     2              177160               28.9   \n",
       "3  2021-01-15 19:00:56.688     2              174900               29.6   \n",
       "6  2021-01-15 19:05:29.504     2              175280               30.1   \n",
       "9  2021-01-15 19:10:02.312     2              175860               29.7   \n",
       "12 2021-01-15 19:14:35.120     2              173780               29.9   \n",
       "\n",
       "    temperature  absolute_humidity  \n",
       "0          24.6           6.504326  \n",
       "3          24.6           6.661871  \n",
       "6          24.6           6.774402  \n",
       "9          24.6           6.684377  \n",
       "12         24.6           6.729390  "
      ]
     },
     "execution_count": 8,
     "metadata": {},
     "output_type": "execute_result"
    }
   ],
   "source": [
    "df.head()"
   ]
  },
  {
   "cell_type": "markdown",
   "metadata": {},
   "source": [
    "Create a subset of the measurement data: 'raw_gas_resistance','temperature','absolute_humidity'"
   ]
  },
  {
   "cell_type": "code",
   "execution_count": 9,
   "metadata": {},
   "outputs": [
    {
     "data": {
      "text/html": [
       "<div>\n",
       "<style scoped>\n",
       "    .dataframe tbody tr th:only-of-type {\n",
       "        vertical-align: middle;\n",
       "    }\n",
       "\n",
       "    .dataframe tbody tr th {\n",
       "        vertical-align: top;\n",
       "    }\n",
       "\n",
       "    .dataframe thead th {\n",
       "        text-align: right;\n",
       "    }\n",
       "</style>\n",
       "<table border=\"1\" class=\"dataframe\">\n",
       "  <thead>\n",
       "    <tr style=\"text-align: right;\">\n",
       "      <th></th>\n",
       "      <th>raw_gas_resistance</th>\n",
       "      <th>temperature</th>\n",
       "      <th>absolute_humidity</th>\n",
       "    </tr>\n",
       "  </thead>\n",
       "  <tbody>\n",
       "    <tr>\n",
       "      <th>0</th>\n",
       "      <td>177160</td>\n",
       "      <td>24.6</td>\n",
       "      <td>6.504326</td>\n",
       "    </tr>\n",
       "    <tr>\n",
       "      <th>3</th>\n",
       "      <td>174900</td>\n",
       "      <td>24.6</td>\n",
       "      <td>6.661871</td>\n",
       "    </tr>\n",
       "    <tr>\n",
       "      <th>6</th>\n",
       "      <td>175280</td>\n",
       "      <td>24.6</td>\n",
       "      <td>6.774402</td>\n",
       "    </tr>\n",
       "    <tr>\n",
       "      <th>9</th>\n",
       "      <td>175860</td>\n",
       "      <td>24.6</td>\n",
       "      <td>6.684377</td>\n",
       "    </tr>\n",
       "    <tr>\n",
       "      <th>12</th>\n",
       "      <td>173780</td>\n",
       "      <td>24.6</td>\n",
       "      <td>6.729390</td>\n",
       "    </tr>\n",
       "  </tbody>\n",
       "</table>\n",
       "</div>"
      ],
      "text/plain": [
       "    raw_gas_resistance  temperature  absolute_humidity\n",
       "0               177160         24.6           6.504326\n",
       "3               174900         24.6           6.661871\n",
       "6               175280         24.6           6.774402\n",
       "9               175860         24.6           6.684377\n",
       "12              173780         24.6           6.729390"
      ]
     },
     "execution_count": 9,
     "metadata": {},
     "output_type": "execute_result"
    }
   ],
   "source": [
    "my_observations = df[['raw_gas_resistance','temperature','absolute_humidity']] \n",
    "my_observations.head()"
   ]
  },
  {
   "cell_type": "markdown",
   "metadata": {},
   "source": [
    "Create a numpy array of measurements for further processing"
   ]
  },
  {
   "cell_type": "code",
   "execution_count": 10,
   "metadata": {},
   "outputs": [],
   "source": [
    "list_of_rows = [list(row) for row in my_observations.values]"
   ]
  },
  {
   "cell_type": "markdown",
   "metadata": {},
   "source": [
    "Print the first four elements of list of lists i.e. rows"
   ]
  },
  {
   "cell_type": "code",
   "execution_count": 11,
   "metadata": {},
   "outputs": [
    {
     "name": "stdout",
     "output_type": "stream",
     "text": [
      "[[177160.0, 24.6, 6.504326360105633], [174900.0, 24.6, 6.661870597201618], [175280.0, 24.6, 6.77440219512732], [175860.0, 24.6, 6.684376916786758]]\n"
     ]
    }
   ],
   "source": [
    "print(list_of_rows[:4])"
   ]
  },
  {
   "cell_type": "markdown",
   "metadata": {},
   "source": [
    "Convert the selection of measurements to a numpy array"
   ]
  },
  {
   "cell_type": "code",
   "execution_count": 12,
   "metadata": {},
   "outputs": [
    {
     "name": "stdout",
     "output_type": "stream",
     "text": [
      "number of measurement datapoints =  1226\n"
     ]
    }
   ],
   "source": [
    "np.array(list_of_rows)\n",
    "measurements = np.array(list_of_rows)\n",
    "print(\"number of measurement datapoints = \", len(measurements))"
   ]
  },
  {
   "cell_type": "markdown",
   "metadata": {},
   "source": [
    "## Set the parameters of the Kalman filter\n",
    "\n",
    "- Kalman filter with a zero covariance matrix for the process noise is well known a the recursive minimum least-square error (LMMSE) filter for a linear system with some assumptions on auto- and cross-correlations of process and measurement noise and initial state.\n",
    "\n",
    "- observation vector y                         :   [raw_gas_resistance]; n=1; note: 'temperature' and 'aH' are NOT part of the observation vector! \n",
    "- system state vector X                        :   [VOC_resistance, alpha_temperature, beta_ah, delta_intercept]; m=4\n",
    "- state transition matrix F                    :   identity matrix (m, n)\n",
    "- observation transition matrix H              :   initial identidy matrix (1,m); then set to state dependant\n",
    "- covariance matrix of the process noise Q     :   zero matrix (m,m)\n",
    "- covariance matrix of the observation noise R :   matrix(1,1) with very small value"
   ]
  },
  {
   "cell_type": "code",
   "execution_count": 13,
   "metadata": {},
   "outputs": [
    {
     "name": "stdout",
     "output_type": "stream",
     "text": [
      "\n",
      "F =  [[1. 0. 0. 0.]\n",
      " [0. 1. 0. 0.]\n",
      " [0. 0. 1. 0.]\n",
      " [0. 0. 0. 1.]]\n",
      "\n",
      "Initial H =  [[1 1 1 1]]\n",
      "\n",
      "Q =  [[0 0 0 0]\n",
      " [0 0 0 0]\n",
      " [0 0 0 0]\n",
      " [0 0 0 0]]\n",
      "\n",
      "R =  [[1.e-12]]\n"
     ]
    }
   ],
   "source": [
    "F = np.eye(4)\n",
    "H = np.array([ [1, 1, 1, 1] ]).reshape(1, 4)\n",
    "# key ist to set Q to a zero matrix, in this case the Kalman filter works an ordinary least squares minimizer filter\n",
    "Q = np.array([ [0, 0, 0, 0], [0, 0, 0, 0], [0, 0, 0, 0], [0, 0, 0, 0] ]).reshape(4, 4)\n",
    "# set covariance of gast resistance measurements also to a very small value\n",
    "R = np.array([ [0.0001] ]).reshape(1, 1)\n",
    "\n",
    "print(\"\\nF = \",F)  # the state-transition model;\n",
    "print(\"\\nInitial H = \",H)  # the observation model;\n",
    "print(\"\\nQ = \",Q)  # covariance of the process noise\n",
    "print(\"\\nR = \",R)  # covariance of the observation noise\n"
   ]
  },
  {
   "cell_type": "markdown",
   "metadata": {},
   "source": [
    "## Initialize the Kalman filter"
   ]
  },
  {
   "cell_type": "code",
   "execution_count": 14,
   "metadata": {},
   "outputs": [
    {
     "name": "stdout",
     "output_type": "stream",
     "text": [
      "dim measurements :  (1226, 3)\n",
      "last index of measurement array =  1226\n"
     ]
    }
   ],
   "source": [
    "kf = KalmanFilter(F = F, H = H, Q = Q, R = R)\n",
    "predictions = []\n",
    "compensated_gas_resistance=[]\n",
    "states=[]\n",
    "\n",
    "#print(\"raw gas resistance measurements =\", measurements[:,0])\n",
    "\n",
    "print(\"dim measurements : \", measurements.shape)\n",
    "\n",
    "last_index = len(measurements)\n",
    "\n",
    "print (\"last index of measurement array = \", last_index)\n",
    "\n"
   ]
  },
  {
   "cell_type": "markdown",
   "metadata": {},
   "source": [
    "## Run the Kalman filter"
   ]
  },
  {
   "cell_type": "code",
   "execution_count": 15,
   "metadata": {},
   "outputs": [
    {
     "name": "stdout",
     "output_type": "stream",
     "text": [
      "\n",
      "Iteration index =  1226\n",
      "\n",
      "\n",
      "\n",
      "State vector kf.x=  [[ 60558.11960589]\n",
      " [  8683.47212762]\n",
      " [-35071.13578221]\n",
      " [112268.60542403]]\n",
      "\n",
      "Observation vector z =  [1.13640000e+05 2.49000000e+01 8.83577943e+00]\n",
      "\n",
      "Observation transition matrix kf.H =  [[ 1.         24.9         8.83577943  1.        ]]\n",
      "\n",
      "Kalman filter prediction =  [[ 60558.11960589]\n",
      " [  8683.47212762]\n",
      " [-35071.13578221]\n",
      " [112268.60542403]]\n",
      "\n",
      "Kalman filter update =  [[79164.3608352]]\n",
      "\n",
      "\n",
      "\n"
     ]
    }
   ],
   "source": [
    "it = 0  # iteration index\n",
    "#print(\"\\nState vector kf.x= \", kf.x)\n",
    "for z in measurements:\n",
    "    zg = z[0] # raw_gas_resistance\n",
    "    # make observation model matrix state dependant\n",
    "    H = np.array([[1, z[1], z[2], 1]]).reshape(1, 4)\n",
    "    # z[1]: measured temperature\n",
    "    # z[2]: calculated absolute humidity ah(T, rH)\n",
    "    # estimated state vector x:\n",
    "    # x[0]: estimated VOC resistance\n",
    "    # x[1]: estimated regression coefficient for T temperature dependency\n",
    "    # x[2]: estimated regression coefficient for aH aboslute humidity dependency\n",
    "    # x[3]: estimated intercept of linear regression\n",
    "    kf.H = H\n",
    "    it = it + 1\n",
    "    #print(\"\\nState vector kf.x= \", kf.x)\n",
    "    #print results for the last sample of the measurement sequence\n",
    "    if ((it == last_index)):  # print results of last measurement index \n",
    "        print (\"\\nIteration index = \", it)\n",
    "        print (\"\\n\")\n",
    "        print(\"\\nState vector kf.x= \", kf.x)\n",
    "        print(\"\\nObservation vector z = \", z)\n",
    "        print(\"\\nObservation transition matrix kf.H = \", kf.H)\n",
    "        print(\"\\nKalman filter prediction = \", kf.predict())\n",
    "        print(\"\\nKalman filter update = \",np.dot(H,  kf.predict()))\n",
    "        print (\"\\n\\n\")\n",
    "    predictions.append(np.dot(H,  kf.predict()))\n",
    "   \n",
    "    compensated_gas_resistance.append(zg-kf.predict()[1,0]*z[1]-kf.predict()[2,0]*z[2])\n",
    "    #compensated_gas_resistance.append(-kf.predict()[1,0]*z[1]-kf.predict()[2,0]*z[2])\n",
    "    #compensated_gas_resistance.append(-kf.predict()[1,0]*z[1])\n",
    "    #rint(\"\\nraw gas resistance                = \",zg)\n",
    "    #print(\"\\ntemperature coefficent prediction = \",kf.predict()[1,0])\n",
    "    #print(\"\\ntemperature                       = \",z[1])\n",
    "    #print(\"\\ntemperature compensation          = \",-kf.predict()[1,0]*z[1])\n",
    "    #print(\"\\nhumidity coefficent prediction    = \",kf.predict()[2,0])\n",
    "    #print(\"\\nabsolute humidity                 = \",z[2])\n",
    "    #print(\"\\nhumidity compensation             = \",-kf.predict()[2,0]*z[2])\n",
    "    #print(\"\\nKalman state prediction          = \",kf.predict())\n",
    "    #print(\"\\ntmperature coefficent prediction = \",kf.predict()[1,0])\n",
    "    #print(\"\\ncompensated gas resistance       = \",zg-kf.predict()[1,0]*z[1]-kf.predict()[2,0]*z[2])\n",
    "    states.append(kf.x)\n",
    "    kf.update(zg)  #only zg raw_gas_resistance is an observation variable!"
   ]
  },
  {
   "cell_type": "markdown",
   "metadata": {},
   "source": [
    "## Plot the results of the Kalman filter"
   ]
  },
  {
   "cell_type": "markdown",
   "metadata": {},
   "source": [
    "### Plot measured gas resistance versus corrected gas resistance (compensation of temperature and humidity interference)"
   ]
  },
  {
   "cell_type": "code",
   "execution_count": 16,
   "metadata": {},
   "outputs": [
    {
     "data": {
      "application/vnd.jupyter.widget-view+json": {
       "model_id": "85215187bc9b4ac98ba381f1f2698f33",
       "version_major": 2,
       "version_minor": 0
      },
      "text/plain": [
       "Canvas(toolbar=Toolbar(toolitems=[('Home', 'Reset original view', 'home', 'home'), ('Back', 'Back to previous …"
      ]
     },
     "metadata": {},
     "output_type": "display_data"
    }
   ],
   "source": [
    "import matplotlib.pyplot as plt\n",
    "fig, ax = plt.subplots(figsize=(12, 12))\n",
    "ax.plot(range(len(measurements)), measurements[:,0], label = 'Measurements gas resistance R_raw')\n",
    "ax.plot(range(len(predictions)), compensated_gas_resistance[:], label = 'corrected Kalman Filter Prediction R_raw_corrected')\n",
    "ax.legend()\n",
    "plt.show()"
   ]
  },
  {
   "cell_type": "markdown",
   "metadata": {},
   "source": [
    "## Plot alpha (temperature coefficient) and beta (aH coefficient) regression coefficients"
   ]
  },
  {
   "cell_type": "code",
   "execution_count": 17,
   "metadata": {},
   "outputs": [
    {
     "data": {
      "application/vnd.jupyter.widget-view+json": {
       "model_id": "a18776e88e6f4a1b88e52cec557dbca8",
       "version_major": 2,
       "version_minor": 0
      },
      "text/plain": [
       "Canvas(toolbar=Toolbar(toolitems=[('Home', 'Reset original view', 'home', 'home'), ('Back', 'Back to previous …"
      ]
     },
     "metadata": {},
     "output_type": "display_data"
    }
   ],
   "source": [
    "import matplotlib.pyplot as plt\n",
    "fig, ax = plt.subplots(figsize=(12, 12))\n",
    "ax.plot(range(len(predictions)), np.array(states)[:,1], label = 'alpha (temperature coefficient)')\n",
    "ax.plot(range(len(predictions)), np.array(states)[:,2], label = 'beta (aH coefficient)')\n",
    "ax.legend()\n",
    "plt.show()"
   ]
  },
  {
   "cell_type": "markdown",
   "metadata": {},
   "source": [
    "# Regression results of the recursive minimum least-square error (LMMSE) Kalman filter"
   ]
  },
  {
   "cell_type": "code",
   "execution_count": 18,
   "metadata": {},
   "outputs": [
    {
     "name": "stdout",
     "output_type": "stream",
     "text": [
      "\n",
      "\n",
      "Linear regression coefficient of temperature interference alpha_LMMSE      =    8682.188\n",
      "Linear regression coefficient of absolute humidity interference beta_LMMSE =  -34935.852\n",
      "Linear regression intercept delta_LMMSE                                    =  171834.596\n",
      "\n",
      "\n",
      "\n"
     ]
    }
   ],
   "source": [
    "print(\"\\n\\nLinear regression coefficient of temperature interference alpha_LMMSE      = %11.3lf\" % kf.predict()[1][0])\n",
    "print(\"Linear regression coefficient of absolute humidity interference beta_LMMSE = %11.3lf\" % kf.predict()[2][0])\n",
    "print(\"Linear regression intercept delta_LMMSE                                    = %11.3lf\" % (kf.predict()[0][0]+ kf.predict()[3][0]))\n",
    "print(\"\\n\\n\")"
   ]
  },
  {
   "cell_type": "markdown",
   "metadata": {},
   "source": [
    "# You are done! Congratulations!"
   ]
  }
 ],
 "metadata": {
  "kernelspec": {
   "display_name": "Python 3",
   "language": "python",
   "name": "python3"
  },
  "language_info": {
   "codemirror_mode": {
    "name": "ipython",
    "version": 3
   },
   "file_extension": ".py",
   "mimetype": "text/x-python",
   "name": "python",
   "nbconvert_exporter": "python",
   "pygments_lexer": "ipython3",
   "version": "3.8.3"
  }
 },
 "nbformat": 4,
 "nbformat_minor": 4
}
